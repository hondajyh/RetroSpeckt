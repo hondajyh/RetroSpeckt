{
 "cells": [
  {
   "cell_type": "code",
   "execution_count": 184,
   "metadata": {},
   "outputs": [],
   "source": [
    "#library(data.table)\n",
    "library(tidyverse)\n",
    "library(lubridate)\n",
    "library(ggplot2)"
   ]
  },
  {
   "cell_type": "code",
   "execution_count": 185,
   "metadata": {
    "collapsed": true
   },
   "outputs": [],
   "source": [
    "FILE_DIR <- '../input/hawaiiml-data'\n",
    "for (f in dir(FILE_DIR, full.names=T, pattern='.csv'))  \n",
    "  print(sprintf('%-30s %0.2f MB', f, file.size(f)/1e6))"
   ]
  },
  {
   "cell_type": "code",
   "execution_count": 186,
   "metadata": {
    "scrolled": false
   },
   "outputs": [
    {
     "name": "stderr",
     "output_type": "stream",
     "text": [
      "Parsed with column specification:\n",
      "cols(\n",
      "  id = col_integer(),\n",
      "  date = col_character(),\n",
      "  time = col_time(format = \"\"),\n",
      "  invoice_id = col_integer(),\n",
      "  stock_id = col_integer(),\n",
      "  customer_id = col_integer(),\n",
      "  country = col_character(),\n",
      "  description = col_character(),\n",
      "  unit_price = col_double(),\n",
      "  quantity = col_integer()\n",
      ")\n",
      "Parsed with column specification:\n",
      "cols(\n",
      "  id = col_integer(),\n",
      "  date = col_character(),\n",
      "  time = col_time(format = \"\"),\n",
      "  invoice_id = col_integer(),\n",
      "  stock_id = col_integer(),\n",
      "  customer_id = col_integer(),\n",
      "  country = col_character(),\n",
      "  description = col_character(),\n",
      "  unit_price = col_double()\n",
      ")\n"
     ]
    }
   ],
   "source": [
    "train <- read_csv(sprintf('train.csv', FILE_DIR))\n",
    "test  <- read_csv(sprintf('test.csv', FILE_DIR))"
   ]
  },
  {
   "cell_type": "code",
   "execution_count": null,
   "metadata": {},
   "outputs": [],
   "source": [
    "#created mean for unit price - going to do min and max as well.\n",
    "train %>% group_by(stock_id) %>% summarise(min(unit_price))"
   ]
  },
  {
   "cell_type": "code",
   "execution_count": null,
   "metadata": {},
   "outputs": [],
   "source": [
    "# mutated the data to add mean  of unit price to the dataset. \n",
    "train = train %>%\n",
    "  group_by(stock_id) %>% mutate(mean_price = mean(unit_price))"
   ]
  },
  {
   "cell_type": "code",
   "execution_count": null,
   "metadata": {},
   "outputs": [],
   "source": [
    "# mutated the data to add max of unit price to the dataset. \n",
    "train = train %>%\n",
    "  group_by(stock_id) %>% mutate(max_price = max(unit_price))"
   ]
  },
  {
   "cell_type": "code",
   "execution_count": null,
   "metadata": {},
   "outputs": [],
   "source": [
    "# mutated the data to add min of unit price to the dataset. \n",
    "train = train %>%\n",
    "  group_by(stock_id) %>% mutate(min_price = min(unit_price))"
   ]
  },
  {
   "cell_type": "code",
   "execution_count": null,
   "metadata": {
    "collapsed": true
   },
   "outputs": [],
   "source": [
    "# mutated the data to add median of unit price to the dataset. \n",
    "train = train %>%\n",
    "  group_by(stock_id) %>% mutate(median_price = median(unit_price))"
   ]
  },
  {
   "cell_type": "code",
   "execution_count": null,
   "metadata": {},
   "outputs": [],
   "source": [
    "train"
   ]
  },
  {
   "cell_type": "code",
   "execution_count": null,
   "metadata": {},
   "outputs": [],
   "source": [
    "# subtracted unit price from median price to get the difference. \n",
    "train = train %>% mutate(median_diff = unit_price - median_price)"
   ]
  },
  {
   "cell_type": "code",
   "execution_count": null,
   "metadata": {},
   "outputs": [],
   "source": [
    "# subtracted unit price from mean price to get the difference. \n",
    "train = train %>% mutate(mean_diff = unit_price - mean_price)"
   ]
  },
  {
   "cell_type": "code",
   "execution_count": null,
   "metadata": {},
   "outputs": [],
   "source": [
    "# subtracted unit price from min price to get the difference. \n",
    "train = train %>% mutate(min_diff = unit_price - min_price)"
   ]
  },
  {
   "cell_type": "code",
   "execution_count": null,
   "metadata": {},
   "outputs": [],
   "source": [
    "# subtracted max price from unit price to get the difference. \n",
    "train = train %>% mutate(max_diff = max_price - unit_price)"
   ]
  },
  {
   "cell_type": "code",
   "execution_count": null,
   "metadata": {},
   "outputs": [],
   "source": [
    "train"
   ]
  },
  {
   "cell_type": "code",
   "execution_count": null,
   "metadata": {},
   "outputs": [],
   "source": [
    "write.csv(train, \"train2.csv\")"
   ]
  },
  {
   "cell_type": "code",
   "execution_count": null,
   "metadata": {},
   "outputs": [],
   "source": []
  },
  {
   "cell_type": "code",
   "execution_count": null,
   "metadata": {},
   "outputs": [],
   "source": []
  },
  {
   "cell_type": "code",
   "execution_count": null,
   "metadata": {},
   "outputs": [],
   "source": []
  },
  {
   "cell_type": "code",
   "execution_count": null,
   "metadata": {},
   "outputs": [],
   "source": []
  },
  {
   "cell_type": "code",
   "execution_count": null,
   "metadata": {},
   "outputs": [],
   "source": []
  },
  {
   "cell_type": "code",
   "execution_count": 191,
   "metadata": {
    "scrolled": true
   },
   "outputs": [],
   "source": []
  },
  {
   "cell_type": "code",
   "execution_count": 192,
   "metadata": {},
   "outputs": [],
   "source": []
  },
  {
   "cell_type": "code",
   "execution_count": 193,
   "metadata": {},
   "outputs": [],
   "source": []
  },
  {
   "cell_type": "code",
   "execution_count": 194,
   "metadata": {
    "collapsed": true
   },
   "outputs": [],
   "source": []
  },
  {
   "cell_type": "code",
   "execution_count": null,
   "metadata": {},
   "outputs": [],
   "source": []
  },
  {
   "cell_type": "code",
   "execution_count": 177,
   "metadata": {},
   "outputs": [],
   "source": []
  },
  {
   "cell_type": "code",
   "execution_count": 178,
   "metadata": {},
   "outputs": [],
   "source": []
  },
  {
   "cell_type": "code",
   "execution_count": 179,
   "metadata": {},
   "outputs": [],
   "source": []
  },
  {
   "cell_type": "code",
   "execution_count": null,
   "metadata": {
    "collapsed": true
   },
   "outputs": [],
   "source": []
  },
  {
   "cell_type": "code",
   "execution_count": null,
   "metadata": {},
   "outputs": [],
   "source": []
  },
  {
   "cell_type": "code",
   "execution_count": 183,
   "metadata": {},
   "outputs": [],
   "source": []
  },
  {
   "cell_type": "code",
   "execution_count": null,
   "metadata": {
    "collapsed": true
   },
   "outputs": [],
   "source": []
  }
 ],
 "metadata": {
  "kernelspec": {
   "display_name": "R",
   "language": "R",
   "name": "ir"
  },
  "language_info": {
   "codemirror_mode": "r",
   "file_extension": ".r",
   "mimetype": "text/x-r-source",
   "name": "R",
   "pygments_lexer": "r",
   "version": "3.4.2"
  }
 },
 "nbformat": 4,
 "nbformat_minor": 2
}

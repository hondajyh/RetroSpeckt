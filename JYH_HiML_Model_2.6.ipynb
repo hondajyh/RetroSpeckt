{
 "cells": [
  {
   "cell_type": "markdown",
   "metadata": {
    "_cell_guid": "7fbfb891-6794-4584-9c00-ede5e8a8ba0f",
    "_uuid": "5aca4e1b81b52102ec85a107f821714014f0bdf1"
   },
   "source": [
    "# JON'S HiML Competition RFG_Log Model (v 2.6)\n",
    "## Make Date: 04/13/18\n",
    "I found out RFG has tuning parameters. Let's see if we can improve prediction errors of each combo done in v 2.2"
   ]
  },
  {
   "cell_type": "code",
   "execution_count": 304,
   "metadata": {
    "_cell_guid": "b1076dfc-b9ad-4769-8c92-a6c4dae69d19",
    "_uuid": "8f2839f25d086af736a60e9eeb907d3b93b6e0e5",
    "collapsed": true
   },
   "outputs": [],
   "source": [
    "#Some initialization procedures:\n",
    "import numpy as np # linear algebra\n",
    "import pandas as pd # data processing, CSV file I/O (e.g. pd.read_csv)\n",
    "import os\n",
    "from sklearn.model_selection import train_test_split\n",
    "import random\n",
    "import time\n",
    "import math\n",
    "# load in data files\n",
    "# FILE_DIR = '../input/hawaiiml-data'\n",
    "# for f in os.listdir(FILE_DIR):\n",
    "#     print('{0:<30}{1:0.2f}MB'.format(f, 1e-6*os.path.getsize(f'{FILE_DIR}/{f}')))\n",
    "FILE_DIR = '../Sprint09alt_Machine_Learning_Hawaii_Kaggle_Competition'\n",
    "df_train = pd.read_csv(f'{FILE_DIR}/train.csv', encoding='ISO-8859-1') #write training data to dataframe\n",
    "df_test = pd.read_csv(f'{FILE_DIR}/test.csv', encoding='ISO-8859-1') # Read the test data\n",
    "\n",
    "#define the error function:\n",
    "def rmsle(y_true, y_pred):\n",
    "    return np.sqrt(np.mean((np.log1p(y_true) - np.log1p(y_pred))**2))"
   ]
  },
  {
   "cell_type": "markdown",
   "metadata": {
    "_cell_guid": "ff9f1761-c91d-4ee4-bfe8-a9b09b7ee31a",
    "_uuid": "4b5c96480b52b12cb00f951f4caf86bee8671a1a"
   },
   "source": [
    "# Prediction Target\n",
    "We want to predict the quantity data field.    \n",
    "By convention, we define this target as 'y'.  \n",
    "We know quantity is highly skewed. See if a log transform will help.  "
   ]
  },
  {
   "cell_type": "code",
   "execution_count": 305,
   "metadata": {
    "_cell_guid": "e9777448-7e1c-4431-91ba-8278ef408e90",
    "_uuid": "7ce0ac11027bab5c459434ee85fdf943bf655e3e",
    "collapsed": true
   },
   "outputs": [],
   "source": [
    "y = df_train.quantity\n",
    "logy = np.log1p(df_train.quantity)"
   ]
  },
  {
   "cell_type": "markdown",
   "metadata": {
    "_cell_guid": "79c7e3d0-c299-4dcb-8224-4455121ee9b0",
    "_uuid": "d629ff2d2480ee46fbb7e2d37f6b5fab8052498a",
    "collapsed": true
   },
   "source": [
    "# Define ML Predictors\n",
    "build a function to go through each combination of predictors"
   ]
  },
  {
   "cell_type": "markdown",
   "metadata": {
    "_cell_guid": "7bff28a9-8df2-4545-a161-7e2ac034603e",
    "_uuid": "42ec8896695db7f7c0f89e09812deea081e4c131"
   },
   "source": [
    "### Here is the list of columns we can choose predictors from. To keep it simple, just select from numeric data types."
   ]
  },
  {
   "cell_type": "code",
   "execution_count": 31,
   "metadata": {
    "_cell_guid": "49be0d0a-9910-40e8-a912-a20310183e08",
    "_uuid": "f92705d0747bc4744f0eedc2b900a717c5071c43"
   },
   "outputs": [
    {
     "name": "stdout",
     "output_type": "stream",
     "text": [
      "Column Names & Data Types: \n",
      " id               int64\n",
      "date            object\n",
      "time            object\n",
      "invoice_id       int64\n",
      "stock_id         int64\n",
      "customer_id      int64\n",
      "country         object\n",
      "description     object\n",
      "unit_price     float64\n",
      "quantity         int64\n",
      "dtype: object\n"
     ]
    }
   ],
   "source": [
    "print('Column Names & Data Types: \\n', df_train.dtypes)"
   ]
  },
  {
   "cell_type": "markdown",
   "metadata": {
    "_cell_guid": "0c79a0fb-ea3a-4de6-946e-39215db1014c",
    "_uuid": "4bbadda9ed133f8ec4ed40dbd40081e7c5635c6d"
   },
   "source": [
    "## Define feature combination picker"
   ]
  },
  {
   "cell_type": "code",
   "execution_count": 306,
   "metadata": {
    "_cell_guid": "f810fcc3-daab-4599-936b-d3d08d4fdc7d",
    "_uuid": "df2153cd07cacfa2c55083c47e225cff21db357d"
   },
   "outputs": [
    {
     "name": "stdout",
     "output_type": "stream",
     "text": [
      "['stock_id']\n"
     ]
    }
   ],
   "source": [
    "ls_AllPredictors = ['invoice_id', 'stock_id', 'customer_id', 'unit_price']\n",
    "\n",
    "# https://stackoverflow.com/questions/464864/how-to-get-all-possible-combinations-of-a-list-s-elements\n",
    "from itertools import chain, combinations\n",
    "def powerset(iterable):\n",
    "    \"powerset([1,2,3]) --> () (1,) (2,) (3,) (1,2) (1,3) (2,3) (1,2,3)\"\n",
    "    s = list(iterable)  # allows duplicate elements\n",
    "    return chain.from_iterable(combinations(s, r) for r in range(len(s)+1))\n",
    "#build combos:\n",
    "ls_PredictorCombos = [list(combo[1]) for combo in enumerate(powerset(ls_AllPredictors), 1)]\n",
    "print (ls_PredictorCombos[2])\n",
    "# display(df_train[ls_PredictorCombos[2]])\n",
    "def GetX(comboID,df):\n",
    "    return df[ls_PredictorCombos[comboID]]\n",
    "# display(GetX(2))"
   ]
  },
  {
   "cell_type": "markdown",
   "metadata": {
    "_cell_guid": "dac2a3c4-1cd6-46ab-8400-485d1521ef33",
    "_uuid": "2ccaea24236a5cae5b01524ae0dbe81c71af131e"
   },
   "source": [
    "# Score Different Random Forest Regressor Models\n",
    "Iteratively try different parameter tunings on each predictor combo"
   ]
  },
  {
   "cell_type": "code",
   "execution_count": 314,
   "metadata": {
    "_cell_guid": "a5cc7dee-74be-4115-8c8d-e84ab88c565a",
    "_uuid": "f8716a2b79957c3da577a755a9e0d29ec21a2434",
    "scrolled": false
   },
   "outputs": [],
   "source": [
    "def Run_RFG(SeedVal, X, logy, i_n_estimators=10,i_min_samples_leaf=1, i_max_leaf_nodes=None, i_n_jobs=1):\n",
    "    #fit, predict, and then evaluate the passed in mod = el using passed in values (e.g. training set)\n",
    "    #return back RMSLE value and trained model\n",
    "    from sklearn.ensemble import RandomForestRegressor\n",
    "\n",
    "    myModel = RandomForestRegressor(\n",
    "        n_estimators = i_n_estimators, \n",
    "        min_samples_leaf = i_min_samples_leaf,\n",
    "        max_leaf_nodes = i_max_leaf_nodes, \n",
    "        oob_score = False,\n",
    "        n_jobs=i_n_jobs, \n",
    "        criterion='mse',\n",
    "        random_state=SeedVal)\n",
    "    train_X, val_X, train_y, val_y = train_test_split(X, logy,random_state = SeedVal) #split training data into a test and train part\n",
    "    myModel.fit(train_X, train_y)\n",
    "    predicted_vals = np.expm1(myModel.predict(val_X)) #transform predicted values from log to \"normal\" Y value\n",
    "    return rmsle(np.expm1(val_y), predicted_vals), myModel #include transform of val_Y values from log to \"normal\" Y value"
   ]
  },
  {
   "cell_type": "code",
   "execution_count": 297,
   "metadata": {
    "_cell_guid": "6b2814af-4f93-4e0c-8495-b0db3dcbfa79",
    "_uuid": "469feb2739ff62277c5bb52eb6b6776e58a89aed"
   },
   "outputs": [],
   "source": [
    "def ScoreCombos (SeedVal, df_X, logy, ScoreAllCombos, ls_PredictorCombos, i_n_estimators=10,i_min_samples_leaf=1, i_max_leaf_nodes=None, i_n_jobs=1):\n",
    "    #find RMSLE error of each predictor combination\n",
    "    #return dataframe of results: ComboID\terr\tPreds\n",
    "    MinErr = 100000000\n",
    "#     df_Track = pd.DataFrame()\n",
    "    bestModel = None\n",
    "    if ScoreAllCombos:\n",
    "        for comboID in range(1,len(ls_PredictorCombos)):\n",
    "            X = GetX(comboID, df_X)\n",
    "            TrainErr,myModel = Run_RFG(SeedVal, X, logy, i_n_estimators,i_min_samples_leaf, i_max_leaf_nodes, i_n_jobs)\n",
    "    #         df2 = pd.DataFrame([[comboID, TrainErr, ','.join(ls_PredictorCombos[comboID])]],columns=['ComboID','err','Preds'])\n",
    "    #         if df_Track.shape[0] >0:\n",
    "    #             df_Track = pd.concat([df2, df_Track])\n",
    "    #         else:\n",
    "    #             df_Track = df2.copy(deep = True)\n",
    "            if TrainErr < MinErr:\n",
    "                MinErr = TrainErr\n",
    "                bestComboID = comboID\n",
    "                bestModel = myModel\n",
    "                print ('Best Combo: ', bestComboID, ' Params: ', ls_PredictorCombos[comboID], ' Err: ', TrainErr)\n",
    "    else:\n",
    "            X = df_X[ls_PredictorCombos]\n",
    "            TrainErr,myModel = Run_RFG(SeedVal, X, logy, i_n_estimators,i_min_samples_leaf, i_max_leaf_nodes, i_n_jobs)\n",
    "    #         df2 = pd.DataFrame([[comboID, TrainErr, ','.join(ls_PredictorCombos[comboID])]],columns=['ComboID','err','Preds'])\n",
    "    #         if df_Track.shape[0] >0:\n",
    "    #             df_Track = pd.concat([df2, df_Track])\n",
    "    #         else:\n",
    "    #             df_Track = df2.copy(deep = True)\n",
    "            if TrainErr < MinErr:\n",
    "                MinErr = TrainErr\n",
    "                bestComboID = 0\n",
    "                bestModel = myModel\n",
    "                print ('Best Combo: ', bestComboID, ' Params: ', ls_PredictorCombos, ' Err: ', TrainErr)\n",
    "        \n",
    "    print ('fin')\n",
    "#     return df_Track\n",
    "    return MinErr, bestComboID, bestModel"
   ]
  },
  {
   "cell_type": "code",
   "execution_count": 65,
   "metadata": {
    "scrolled": true
   },
   "outputs": [
    {
     "name": "stdout",
     "output_type": "stream",
     "text": [
      "( 10 ,  5 )\n",
      "Best Combo:  1  Params:  ['invoice_id']  Err:  0.943613545907\n",
      "10\n",
      "10\n",
      "Best Combo:  3  Params:  ['customer_id']  Err:  0.911534070431\n",
      "10\n",
      "Best Combo:  4  Params:  ['unit_price']  Err:  0.888198070424\n",
      "10\n",
      "10\n",
      "10\n",
      "Best Combo:  7  Params:  ['invoice_id', 'unit_price']  Err:  0.873343577702\n",
      "10\n",
      "10\n",
      "10\n",
      "Best Combo:  10  Params:  ['customer_id', 'unit_price']  Err:  0.852289738056\n",
      "10\n",
      "10\n",
      "10\n",
      "Best Combo:  13  Params:  ['invoice_id', 'customer_id', 'unit_price']  Err:  0.847092767115\n",
      "10\n",
      "10\n",
      "10\n",
      "fin\n",
      "( 10 ,  10 )\n",
      "Best Combo:  1  Params:  ['invoice_id']  Err:  0.940711449723\n",
      "10\n",
      "10\n",
      "Best Combo:  3  Params:  ['customer_id']  Err:  0.896379961534\n",
      "10\n",
      "Best Combo:  4  Params:  ['unit_price']  Err:  0.869187675204\n",
      "10\n",
      "10\n",
      "10\n",
      "Best Combo:  7  Params:  ['invoice_id', 'unit_price']  Err:  0.852906002672\n",
      "10\n",
      "10\n",
      "10\n",
      "Best Combo:  10  Params:  ['customer_id', 'unit_price']  Err:  0.835416975444\n",
      "10\n",
      "10\n",
      "10\n",
      "Best Combo:  13  Params:  ['invoice_id', 'customer_id', 'unit_price']  Err:  0.824167581692\n",
      "10\n",
      "10\n",
      "Best Combo:  15  Params:  ['invoice_id', 'stock_id', 'customer_id', 'unit_price']  Err:  0.824167581692\n",
      "10\n",
      "fin\n",
      "( 10 ,  5 )\n",
      "Best Combo:  1  Params:  ['invoice_id']  Err:  0.943613545907\n",
      "10\n",
      "10\n",
      "Best Combo:  3  Params:  ['customer_id']  Err:  0.911534070431\n",
      "10\n",
      "Best Combo:  4  Params:  ['unit_price']  Err:  0.888198070424\n",
      "10\n",
      "10\n",
      "10\n",
      "Best Combo:  7  Params:  ['invoice_id', 'unit_price']  Err:  0.873343577702\n",
      "10\n",
      "10\n",
      "10\n",
      "Best Combo:  10  Params:  ['customer_id', 'unit_price']  Err:  0.852289738056\n",
      "10\n",
      "10\n",
      "10\n",
      "Best Combo:  13  Params:  ['invoice_id', 'customer_id', 'unit_price']  Err:  0.847092767115\n",
      "10\n",
      "10\n",
      "10\n",
      "fin\n",
      "( 10 ,  10 )\n",
      "Best Combo:  1  Params:  ['invoice_id']  Err:  0.940711449723\n",
      "10\n",
      "10\n",
      "Best Combo:  3  Params:  ['customer_id']  Err:  0.896379961534\n",
      "10\n",
      "Best Combo:  4  Params:  ['unit_price']  Err:  0.869187675204\n",
      "10\n",
      "10\n",
      "10\n",
      "Best Combo:  7  Params:  ['invoice_id', 'unit_price']  Err:  0.852906002672\n",
      "10\n",
      "10\n",
      "10\n",
      "Best Combo:  10  Params:  ['customer_id', 'unit_price']  Err:  0.835416975444\n",
      "10\n",
      "10\n",
      "10\n",
      "Best Combo:  13  Params:  ['invoice_id', 'customer_id', 'unit_price']  Err:  0.824167581692\n",
      "10\n",
      "10\n",
      "Best Combo:  15  Params:  ['invoice_id', 'stock_id', 'customer_id', 'unit_price']  Err:  0.824167581692\n",
      "10\n",
      "fin\n"
     ]
    }
   ],
   "source": [
    "ls_max_trees=[10,10]\n",
    "ls_max_leaf_nodes=[5,10]\n",
    "for max_trees in ls_max_trees:\n",
    "    for max_leaf_nodes in ls_max_leaf_nodes:\n",
    "        print ('(', max_trees, ', ', max_leaf_nodes, ')')\n",
    "        ScoreCombos(0, df_train, logy, ls_PredictorCombos, max_trees,1,max_leaf_nodes,-1).sort_values(by=['err'])"
   ]
  },
  {
   "cell_type": "code",
   "execution_count": 298,
   "metadata": {
    "scrolled": true
   },
   "outputs": [
    {
     "name": "stdout",
     "output_type": "stream",
     "text": [
      "Evaluating tuning params: n_estimators:  10 min_samples_leaf:  1 max_leaf_nodes:  5\n",
      "Best Combo:  0  Params:  ['invoice_id', 'customer_id', 'unit_price']  Err:  0.801303948546\n",
      "fin\n",
      "!!!New best tuning: \n",
      "predictors:  {'bootstrap': True, 'criterion': 'mse', 'max_depth': None, 'max_features': 'auto', 'max_leaf_nodes': 23, 'min_impurity_decrease': 0.0, 'min_impurity_split': None, 'min_samples_leaf': 1, 'min_samples_split': 2, 'min_weight_fraction_leaf': 0.0, 'n_estimators': 81, 'n_jobs': 4, 'oob_score': False, 'random_state': 0, 'verbose': 0, 'warm_start': False}  model error:  0.801303948546  n_estimators:  81 min_samples_leaf:  1 max_leaf_nodes:  23\n"
     ]
    },
    {
     "data": {
      "text/plain": [
       "(0.80130394854649034,\n",
       " 0,\n",
       " RandomForestRegressor(bootstrap=True, criterion='mse', max_depth=None,\n",
       "            max_features='auto', max_leaf_nodes=23,\n",
       "            min_impurity_decrease=0.0, min_impurity_split=None,\n",
       "            min_samples_leaf=1, min_samples_split=2,\n",
       "            min_weight_fraction_leaf=0.0, n_estimators=81, n_jobs=4,\n",
       "            oob_score=False, random_state=0, verbose=0, warm_start=False))"
      ]
     },
     "execution_count": 298,
     "metadata": {},
     "output_type": "execute_result"
    }
   ],
   "source": [
    "def leftORRight():\n",
    "    ls_leftORright = [-1,1]\n",
    "    return ls_leftORright[random.randint(0,1)]\n",
    "#     return -1 #for now, force left\n",
    "\n",
    "def HopToVal(HopFactor, CurVal, r_vals):\n",
    "    #hop to another value within range R_vals that is at most HopFactor% away from current value\n",
    "    #returned value is float so you'll need to round and cast (Say to int) if needed\n",
    "    xrMin = r_vals[0]\n",
    "    xrMax = r_vals[len(r_vals)-1]\n",
    "    LR = leftORRight()\n",
    "    if LR < 0:\n",
    "        HopDistMax = xrMin-x0\n",
    "    else:\n",
    "        HopDistMax = xrMax-x0\n",
    "    x1 = CurVal + HopDistMax * random.uniform(0,HopFactor)\n",
    "    if x1 < xrMin: x1=xrMin\n",
    "    return x1\n",
    "\n",
    "def TuneParams_RW(df_X, logy, ScoreAllCombos, ls_PredictorCombos, MaxWalks,  r_n_estimators, r_min_samples_leaf, r_max_leaf_nodes, i_n_jobs, SeedVal):\n",
    "    # find best model param combo using random walk\n",
    "    random.seed(SeedVal)\n",
    "    bestModel = None\n",
    "    bestComboID = 0\n",
    "    bestErr = 100000000\n",
    "    #set some intial values for each tuning parameter (they won't be used - just need to give values to do initial hop on)\n",
    "    n_estimators = r_n_estimators[0]\n",
    "    min_samples_leaf = r_min_samples_leaf[0]\n",
    "    max_leaf_nodes = r_max_leaf_nodes[0]\n",
    "    for Walki in range(0,MaxWalks):\n",
    "        #assign values:\n",
    "        print ('Evaluating tuning params: n_estimators: ', n_estimators, 'min_samples_leaf: ', min_samples_leaf, 'max_leaf_nodes: ', max_leaf_nodes,)\n",
    "        n_estimators = int(round(HopToVal(1,n_estimators,r_n_estimators),0))\n",
    "        min_samples_leaf = int(round(HopToVal(1,min_samples_leaf, r_min_samples_leaf),0))\n",
    "        max_leaf_nodes = int(round(HopToVal(1,max_leaf_nodes, r_max_leaf_nodes),0))\n",
    "        curErr, curComboID, curModel = ScoreCombos(SeedVal, df_X, logy, ScoreAllCombos, ls_PredictorCombos, n_estimators, min_samples_leaf, max_leaf_nodes, i_n_jobs)\n",
    "        if curErr < bestErr:\n",
    "            bestErr = curErr\n",
    "            bestComboID = curComboID\n",
    "            bestModel = curModel\n",
    "            print ('!!!New best tuning: \\npredictors: ', curModel.get_params(deep=True),  ' model error: ', bestErr, ' n_estimators: ', n_estimators, 'min_samples_leaf: ', min_samples_leaf, 'max_leaf_nodes: ', max_leaf_nodes,)\n",
    "        # clear_output()\n",
    "    return bestErr, bestComboID, bestModel\n",
    "#     print ('--- Completed sim runs for tgtRR: ',tgtRR)\n",
    "#     print ('--- %s execution time in seconds ---' % (time.time() - start_time))\n",
    "#     return [ls_best, pd_hist]\n",
    "\n",
    "TuneParams_RW(df_train, logy, False, ['invoice_id', 'customer_id', 'unit_price'], 1, range(10,100), range(1,2), range(5,50), 4, 0)\n",
    "\n"
   ]
  },
  {
   "cell_type": "code",
   "execution_count": null,
   "metadata": {},
   "outputs": [
    {
     "name": "stdout",
     "output_type": "stream",
     "text": [
      "Evaluating tuning params: n_estimators:  10 min_samples_leaf:  1 max_leaf_nodes:  5\n",
      "Best Combo:  0  Params:  ['invoice_id', 'customer_id', 'unit_price']  Err:  0.801303948546\n",
      "fin\n",
      "!!!New best tuning: \n",
      "predictors:  {'bootstrap': True, 'criterion': 'mse', 'max_depth': None, 'max_features': 'auto', 'max_leaf_nodes': 23, 'min_impurity_decrease': 0.0, 'min_impurity_split': None, 'min_samples_leaf': 1, 'min_samples_split': 2, 'min_weight_fraction_leaf': 0.0, 'n_estimators': 81, 'n_jobs': 4, 'oob_score': False, 'random_state': 0, 'verbose': 0, 'warm_start': False}  model error:  0.801303948546  n_estimators:  81 min_samples_leaf:  1 max_leaf_nodes:  23\n",
      "Evaluating tuning params: n_estimators:  10 min_samples_leaf:  1 max_leaf_nodes:  5\n"
     ]
    }
   ],
   "source": [
    "def prAccept(prevErr, curErr, T):\n",
    "    try:\n",
    "        prob = math.exp((prevErr - curErr)/T)\n",
    "    except OverflowError:\n",
    "        prob = 1 #calculated number is infinite. make prob = 1\n",
    "    return prob\n",
    "\n",
    "def TuneParams_SA(df_X, logy, ScoreAllCombos, ls_PredictorCombos, MaxWalks, TMin, Talpha,  r_n_estimators, r_min_samples_leaf, r_max_leaf_nodes, i_n_jobs, SeedVal):\n",
    "    # find best model param combo using simulated annealing\n",
    "    random.seed(SeedVal)\n",
    "    bestModel = None\n",
    "    bestComboID = 0\n",
    "    bestErr = 100000000\n",
    "    \n",
    "    #we need 2 error measurements (prevErr and curErr) before entering SA. do this by doing 2 random walk results\n",
    "    prevErr, prevComboID, prevModel = TuneParams_RW(df_X, logy, ScoreAllCombos, ls_PredictorCombos, 1, r_n_estimators, r_min_samples_leaf, r_max_leaf_nodes, i_n_jobs, SeedVal)\n",
    "    if prevErr < bestErr:\n",
    "        bestErr = prevErr\n",
    "        bestComboID = prevComboID\n",
    "        bestModel = prevModel\n",
    "#         print ('!!!New best tuning: \\npredictors: ', bestModel.get_params(deep=True),  ' model error: ', bestErr, ' n_estimators: ', bestModel.n_estimators, 'min_samples_leaf: ', bestModel.min_samples_leaf, 'max_leaf_nodes: ', bestModel.max_leaf_nodes,)\n",
    "    curErr, curComboID, curModel = TuneParams_RW(df_X, logy, ScoreAllCombos, ls_PredictorCombos, 1, r_n_estimators, r_min_samples_leaf, r_max_leaf_nodes, i_n_jobs, SeedVal)\n",
    "    if curErr < bestErr:\n",
    "        bestErr = curErr\n",
    "        bestComboID = curComboID\n",
    "        bestModel = curModel\n",
    "#         print ('!!!New best tuning: \\npredictors: ', bestModel.get_params(deep=True),  ' model error: ', bestErr, ' n_estimators: ', bestModel.n_estimators, 'min_samples_leaf: ', bestModel.min_samples_leaf, 'max_leaf_nodes: ', bestModel.max_leaf_nodes,)    \n",
    "    WalkNo = 2\n",
    "    \n",
    "    #get ready to enter SA loop:\n",
    "    TMax=1.0\n",
    "    Tstepcnt = 0 #initialize counter of number of steps between 1st T and T_Min\n",
    "    #calculate number of walks per Tstep\n",
    "    T = TMax #setup T for calculation\n",
    "    while T >= TMin:\n",
    "        T = T * Talpha\n",
    "        Tstepcnt += 1\n",
    "    WalksPerTstep = int (MaxWalks / Tstepcnt) #walks per Tstep\n",
    "    T = TMax #Reset T\n",
    "    #enter SA loop:\n",
    "    while T > TMin:\n",
    "        for iterAtT in range (0,WalksPerTstep): #for each temp, do sim. runs\n",
    "            #advance iterators:\n",
    "            WalkNo = WalkNo + 1\n",
    "            if WalkNo > MaxWalks:\n",
    "                break\n",
    "            if iterAtT>0:\n",
    "                prAcceptVal = prAccept(prevErr, curErr, T) #PROBABILITY OF ACCEPTING SOLUTION. PR > 1 FOR IMPROVED SOLUTION. PR [0,1] FOR WORSTEND SOLUTION\n",
    "                prRandVal = random.uniform(0,1.0)\n",
    "                # print ('Acceptance Consideration: T: ', T, ' prAccept: ', prAcceptVal, ' prRandVal: ', prRandVal)\n",
    "                if prAcceptVal > prRandVal: #accept current solution & base next solution on current solution\n",
    "                    n_estimators = int(round(HopToVal(T,curModel.n_estimators,r_n_estimators),0))\n",
    "                    min_samples_leaf = int(round(HopToVal(T,curModel.min_samples_leaf, r_min_samples_leaf),0))\n",
    "                    max_leaf_nodes = int(round(HopToVal(T,curModel.max_leaf_nodes, r_max_leaf_nodes),0))\n",
    "                    prevModel = curModel\n",
    "                    prevComboID = curComboID\n",
    "                    prevErr = curErr\n",
    "                else: #reject current solution & base next solution on prior solution\n",
    "                    n_estimators = int(round(HopToVal(T,prevModel.n_estimators,r_n_estimators),0))\n",
    "                    min_samples_leaf = int(round(HopToVal(T,prevModel.min_samples_leaf, r_min_samples_leaf),0))\n",
    "                    max_leaf_nodes = int(round(HopToVal(T,prevModel.max_leaf_nodes, r_max_leaf_nodes),0))\n",
    "            else: #reset to best position at each new temp\n",
    "                    n_estimators = int(round(HopToVal(T,bestModel.n_estimators,r_n_estimators),0))\n",
    "                    min_samples_leaf = int(round(HopToVal(T,bestModel.min_samples_leaf, r_min_samples_leaf),0))\n",
    "                    max_leaf_nodes = int(round(HopToVal(T,bestModel.max_leaf_nodes, r_max_leaf_nodes),0))\n",
    "                    prevModel = bestModel\n",
    "                    prevComboID = bestComboID\n",
    "                    prevErr = bestErr                    \n",
    "            #assign values:\n",
    "            print ('\\nWalkNo: ', WalkNo)\n",
    "            print ('Evaluating tuning params: n_estimators: ', n_estimators, 'min_samples_leaf: ', min_samples_leaf, 'max_leaf_nodes: ', max_leaf_nodes,)\n",
    "            curErr, curComboID, curModel = ScoreCombos(SeedVal, df_X, logy, ScoreAllCombos, ls_PredictorCombos, n_estimators, min_samples_leaf, max_leaf_nodes, i_n_jobs)\n",
    "            if curErr < bestErr:\n",
    "                bestErr = curErr\n",
    "                bestComboID = curComboID\n",
    "                bestModel = curModel\n",
    "                print ('!!!New best tuning: \\npredictors: ', bestModel.get_params(deep=True),  ' model error: ', bestErr, ' n_estimators: ', bestModel.n_estimators, 'min_samples_leaf: ', bestModel.min_samples_leaf, 'max_leaf_nodes: ', bestModel.max_leaf_nodes,)    \n",
    "        #advance iterators:\n",
    "        T = T * Talpha\n",
    "        if WalkNo > MaxWalks:\n",
    "            break\n",
    "            \n",
    "    return bestErr, bestComboID, bestModel\n",
    "\n",
    "TuneParams_SA(df_train, logy, False, ['invoice_id', 'customer_id', 'unit_price'], 4, 0.75, 0.01, range(10,100), range(1,2), range(5,50), 4, 0)\n"
   ]
  },
  {
   "cell_type": "code",
   "execution_count": 256,
   "metadata": {},
   "outputs": [
    {
     "data": {
      "text/plain": [
       "10.0"
      ]
     },
     "execution_count": 256,
     "metadata": {},
     "output_type": "execute_result"
    }
   ],
   "source": []
  },
  {
   "cell_type": "markdown",
   "metadata": {
    "_cell_guid": "99b26b10-ddd8-405f-a589-334476fd06ad",
    "_uuid": "794e134f3ba5b7dd629c8c6d011aa58c27d610c7"
   },
   "source": [
    "## OBSERVATION:  customer id & unit price are a part of the lowest 4 scores"
   ]
  },
  {
   "cell_type": "code",
   "execution_count": 11,
   "metadata": {
    "_cell_guid": "d1e23de2-53f1-49bd-bcdf-4b0e211095c3",
    "_uuid": "10778e39054b5a38bdfe544a2297395b39de4037"
   },
   "outputs": [
    {
     "data": {
      "text/html": [
       "<div>\n",
       "<style>\n",
       "    .dataframe thead tr:only-child th {\n",
       "        text-align: right;\n",
       "    }\n",
       "\n",
       "    .dataframe thead th {\n",
       "        text-align: left;\n",
       "    }\n",
       "\n",
       "    .dataframe tbody tr th {\n",
       "        vertical-align: top;\n",
       "    }\n",
       "</style>\n",
       "<table border=\"1\" class=\"dataframe\">\n",
       "  <thead>\n",
       "    <tr style=\"text-align: right;\">\n",
       "      <th></th>\n",
       "      <th>ComboID</th>\n",
       "      <th>err</th>\n",
       "      <th>Preds</th>\n",
       "    </tr>\n",
       "  </thead>\n",
       "  <tbody>\n",
       "    <tr>\n",
       "      <th>0</th>\n",
       "      <td>10</td>\n",
       "      <td>0.588252</td>\n",
       "      <td>customer_id,unit_price</td>\n",
       "    </tr>\n",
       "    <tr>\n",
       "      <th>0</th>\n",
       "      <td>13</td>\n",
       "      <td>0.599604</td>\n",
       "      <td>invoice_id,customer_id,unit_price</td>\n",
       "    </tr>\n",
       "    <tr>\n",
       "      <th>0</th>\n",
       "      <td>14</td>\n",
       "      <td>0.608279</td>\n",
       "      <td>stock_id,customer_id,unit_price</td>\n",
       "    </tr>\n",
       "    <tr>\n",
       "      <th>0</th>\n",
       "      <td>15</td>\n",
       "      <td>0.622682</td>\n",
       "      <td>invoice_id,stock_id,customer_id,unit_price</td>\n",
       "    </tr>\n",
       "    <tr>\n",
       "      <th>0</th>\n",
       "      <td>6</td>\n",
       "      <td>0.679660</td>\n",
       "      <td>invoice_id,customer_id</td>\n",
       "    </tr>\n",
       "    <tr>\n",
       "      <th>0</th>\n",
       "      <td>9</td>\n",
       "      <td>0.681523</td>\n",
       "      <td>stock_id,unit_price</td>\n",
       "    </tr>\n",
       "    <tr>\n",
       "      <th>0</th>\n",
       "      <td>7</td>\n",
       "      <td>0.685706</td>\n",
       "      <td>invoice_id,unit_price</td>\n",
       "    </tr>\n",
       "    <tr>\n",
       "      <th>0</th>\n",
       "      <td>1</td>\n",
       "      <td>0.685915</td>\n",
       "      <td>invoice_id</td>\n",
       "    </tr>\n",
       "    <tr>\n",
       "      <th>0</th>\n",
       "      <td>8</td>\n",
       "      <td>0.700438</td>\n",
       "      <td>stock_id,customer_id</td>\n",
       "    </tr>\n",
       "    <tr>\n",
       "      <th>0</th>\n",
       "      <td>3</td>\n",
       "      <td>0.705888</td>\n",
       "      <td>customer_id</td>\n",
       "    </tr>\n",
       "    <tr>\n",
       "      <th>0</th>\n",
       "      <td>12</td>\n",
       "      <td>0.727274</td>\n",
       "      <td>invoice_id,stock_id,unit_price</td>\n",
       "    </tr>\n",
       "    <tr>\n",
       "      <th>0</th>\n",
       "      <td>11</td>\n",
       "      <td>0.730343</td>\n",
       "      <td>invoice_id,stock_id,customer_id</td>\n",
       "    </tr>\n",
       "    <tr>\n",
       "      <th>0</th>\n",
       "      <td>5</td>\n",
       "      <td>0.798216</td>\n",
       "      <td>invoice_id,stock_id</td>\n",
       "    </tr>\n",
       "    <tr>\n",
       "      <th>0</th>\n",
       "      <td>4</td>\n",
       "      <td>0.806652</td>\n",
       "      <td>unit_price</td>\n",
       "    </tr>\n",
       "    <tr>\n",
       "      <th>0</th>\n",
       "      <td>2</td>\n",
       "      <td>0.887929</td>\n",
       "      <td>stock_id</td>\n",
       "    </tr>\n",
       "  </tbody>\n",
       "</table>\n",
       "</div>"
      ],
      "text/plain": [
       "   ComboID       err                                       Preds\n",
       "0       10  0.588252                      customer_id,unit_price\n",
       "0       13  0.599604           invoice_id,customer_id,unit_price\n",
       "0       14  0.608279             stock_id,customer_id,unit_price\n",
       "0       15  0.622682  invoice_id,stock_id,customer_id,unit_price\n",
       "0        6  0.679660                      invoice_id,customer_id\n",
       "0        9  0.681523                         stock_id,unit_price\n",
       "0        7  0.685706                       invoice_id,unit_price\n",
       "0        1  0.685915                                  invoice_id\n",
       "0        8  0.700438                        stock_id,customer_id\n",
       "0        3  0.705888                                 customer_id\n",
       "0       12  0.727274              invoice_id,stock_id,unit_price\n",
       "0       11  0.730343             invoice_id,stock_id,customer_id\n",
       "0        5  0.798216                         invoice_id,stock_id\n",
       "0        4  0.806652                                  unit_price\n",
       "0        2  0.887929                                    stock_id"
      ]
     },
     "execution_count": 11,
     "metadata": {},
     "output_type": "execute_result"
    }
   ],
   "source": [
    "df_Track.sort_values(by=['err'])"
   ]
  },
  {
   "cell_type": "markdown",
   "metadata": {
    "_cell_guid": "1858a70f-6e7b-4b31-a151-3de60d958dfb",
    "_uuid": "568860a9ef9d1a328d721e4b420e3f3e2e44cd1c"
   },
   "source": [
    "# Submit Model's Predictions\n",
    "## First, output model's predictions for test data set:"
   ]
  },
  {
   "cell_type": "code",
   "execution_count": 12,
   "metadata": {
    "_cell_guid": "8942ec81-8192-4f6c-87fc-f73be942a51c",
    "_uuid": "116ea6bb0872567d756397cee42aa4661a337c5c"
   },
   "outputs": [
    {
     "name": "stdout",
     "output_type": "stream",
     "text": [
      "[  4.1609216   15.53076939  13.03261551 ...,   2.44194547   1.01317254\n",
      "   2.05402861]\n"
     ]
    }
   ],
   "source": [
    "test_X = df_test[ls_mypredictors]\n",
    "# Use the model to make predictions\n",
    "predicted_vals = myModel.predict(test_X)\n",
    "predicted_vals = np.expm1(myModel.predict(test_X)) #transform from log to \"normal\" Y value\n",
    "# We will look at the predicted prices to ensure we have something sensible.\n",
    "print(predicted_vals)"
   ]
  },
  {
   "cell_type": "markdown",
   "metadata": {
    "_cell_guid": "98a8ec9d-dca0-49d9-be93-100cb148aae5",
    "_uuid": "a516788fc3ada35a38f934e6135fb154e85c144a"
   },
   "source": [
    "## Next, submit predicted values"
   ]
  },
  {
   "cell_type": "code",
   "execution_count": 13,
   "metadata": {
    "_cell_guid": "14896579-61d8-4516-a437-2e8d10554b44",
    "_uuid": "b71f002254f76498e9a46941ec7700c938470cbe",
    "collapsed": true
   },
   "outputs": [],
   "source": [
    "my_submission = pd.DataFrame({'Id': df_test.id, 'quantity': predicted_vals})\n",
    "# you could use any filename. We choose submission here\n",
    "my_submission.to_csv('submission.csv', index=False)"
   ]
  },
  {
   "cell_type": "code",
   "execution_count": null,
   "metadata": {
    "_cell_guid": "994af692-ad37-4f64-95be-4e66077f3864",
    "_uuid": "b06695c97943358fcc9924ac8dab4dc17f43922a",
    "collapsed": true
   },
   "outputs": [],
   "source": []
  }
 ],
 "metadata": {
  "kernelspec": {
   "display_name": "Python 3",
   "language": "python",
   "name": "python3"
  },
  "language_info": {
   "codemirror_mode": {
    "name": "ipython",
    "version": 3
   },
   "file_extension": ".py",
   "mimetype": "text/x-python",
   "name": "python",
   "nbconvert_exporter": "python",
   "pygments_lexer": "ipython3",
   "version": "3.6.4"
  }
 },
 "nbformat": 4,
 "nbformat_minor": 1
}

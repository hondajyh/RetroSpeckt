{
 "cells": [
  {
   "cell_type": "code",
   "execution_count": 1,
   "metadata": {},
   "outputs": [
    {
     "name": "stderr",
     "output_type": "stream",
     "text": [
      "── Attaching packages ─────────────────────────────────────── tidyverse 1.2.1 ──\n",
      "✔ ggplot2 2.2.1     ✔ purrr   0.2.4\n",
      "✔ tibble  1.4.2     ✔ dplyr   0.7.4\n",
      "✔ tidyr   0.8.0     ✔ stringr 1.2.0\n",
      "✔ readr   1.1.1     ✔ forcats 0.2.0\n",
      "── Conflicts ────────────────────────────────────────── tidyverse_conflicts() ──\n",
      "✖ dplyr::filter() masks stats::filter()\n",
      "✖ dplyr::lag()    masks stats::lag()\n",
      "\n",
      "Attaching package: ‘lubridate’\n",
      "\n",
      "The following object is masked from ‘package:base’:\n",
      "\n",
      "    date\n",
      "\n"
     ]
    }
   ],
   "source": [
    "library(tidyverse)\n",
    "library(lubridate)\n",
    "library(ggplot2)"
   ]
  },
  {
   "cell_type": "code",
   "execution_count": 2,
   "metadata": {},
   "outputs": [
    {
     "name": "stderr",
     "output_type": "stream",
     "text": [
      "Parsed with column specification:\n",
      "cols(\n",
      "  id = col_integer(),\n",
      "  date = col_character(),\n",
      "  time = col_time(format = \"\"),\n",
      "  invoice_id = col_integer(),\n",
      "  stock_id = col_integer(),\n",
      "  customer_id = col_integer(),\n",
      "  country = col_character(),\n",
      "  description = col_character(),\n",
      "  unit_price = col_double(),\n",
      "  quantity = col_integer()\n",
      ")\n",
      "Parsed with column specification:\n",
      "cols(\n",
      "  id = col_integer(),\n",
      "  date = col_character(),\n",
      "  time = col_time(format = \"\"),\n",
      "  invoice_id = col_integer(),\n",
      "  stock_id = col_integer(),\n",
      "  customer_id = col_integer(),\n",
      "  country = col_character(),\n",
      "  description = col_character(),\n",
      "  unit_price = col_double()\n",
      ")\n"
     ]
    }
   ],
   "source": [
    "train <- read_csv('train.csv')\n",
    "test  <- read_csv('test.csv')"
   ]
  },
  {
   "cell_type": "code",
   "execution_count": 3,
   "metadata": {},
   "outputs": [
    {
     "data": {
      "text/html": [
       "<table>\n",
       "<thead><tr><th scope=col>id</th><th scope=col>date</th><th scope=col>time</th><th scope=col>invoice_id</th><th scope=col>stock_id</th><th scope=col>customer_id</th><th scope=col>country</th><th scope=col>description</th><th scope=col>unit_price</th><th scope=col>quantity</th></tr></thead>\n",
       "<tbody>\n",
       "\t<tr><td>330477                           </td><td>8/30/2011                        </td><td>12:26:00                         </td><td> 357                             </td><td> 198                             </td><td>   7                             </td><td>united kingdom                   </td><td>french blue metal door sign 3    </td><td>2.46                             </td><td>1                                </td></tr>\n",
       "\t<tr><td>113814                           </td><td>11/1/2011                        </td><td>14:54:00                         </td><td>6757                             </td><td>2747                             </td><td> 410                             </td><td>united kingdom                   </td><td>paper lantern 9 point deluxe star</td><td>6.65                             </td><td>4                                </td></tr>\n",
       "\t<tr><td> 51510                           </td><td>7/11/2011                        </td><td>16:21:00                         </td><td>  52                             </td><td> 755                             </td><td>   7                             </td><td>united kingdom                   </td><td>fruit salad bag charm            </td><td>2.46                             </td><td>1                                </td></tr>\n",
       "\t<tr><td>257784                           </td><td>10/11/2011                       </td><td>14:52:00                         </td><td>3642                             </td><td>1942                             </td><td>1722                             </td><td>france                           </td><td>set of 10 led dolly lights       </td><td>6.25                             </td><td>2                                </td></tr>\n",
       "\t<tr><td>431803                           </td><td>11/14/2011                       </td><td>14:59:00                         </td><td>2105                             </td><td>  39                             </td><td>1159                             </td><td>united kingdom                   </td><td>glitter christmas star           </td><td>0.39                             </td><td>5                                </td></tr>\n",
       "\t<tr><td>473125                           </td><td>12/3/2010                        </td><td>11:35:00                         </td><td>1768                             </td><td> 506                             </td><td>1009                             </td><td>united kingdom                   </td><td>set 20 napkins fairy cakes design</td><td>0.85                             </td><td>1                                </td></tr>\n",
       "</tbody>\n",
       "</table>\n"
      ],
      "text/latex": [
       "\\begin{tabular}{r|llllllllll}\n",
       " id & date & time & invoice\\_id & stock\\_id & customer\\_id & country & description & unit\\_price & quantity\\\\\n",
       "\\hline\n",
       "\t 330477                            & 8/30/2011                         & 12:26:00                          &  357                              &  198                              &    7                              & united kingdom                    & french blue metal door sign 3     & 2.46                              & 1                                \\\\\n",
       "\t 113814                            & 11/1/2011                         & 14:54:00                          & 6757                              & 2747                              &  410                              & united kingdom                    & paper lantern 9 point deluxe star & 6.65                              & 4                                \\\\\n",
       "\t  51510                            & 7/11/2011                         & 16:21:00                          &   52                              &  755                              &    7                              & united kingdom                    & fruit salad bag charm             & 2.46                              & 1                                \\\\\n",
       "\t 257784                            & 10/11/2011                        & 14:52:00                          & 3642                              & 1942                              & 1722                              & france                            & set of 10 led dolly lights        & 6.25                              & 2                                \\\\\n",
       "\t 431803                            & 11/14/2011                        & 14:59:00                          & 2105                              &   39                              & 1159                              & united kingdom                    & glitter christmas star            & 0.39                              & 5                                \\\\\n",
       "\t 473125                            & 12/3/2010                         & 11:35:00                          & 1768                              &  506                              & 1009                              & united kingdom                    & set 20 napkins fairy cakes design & 0.85                              & 1                                \\\\\n",
       "\\end{tabular}\n"
      ],
      "text/markdown": [
       "\n",
       "id | date | time | invoice_id | stock_id | customer_id | country | description | unit_price | quantity | \n",
       "|---|---|---|---|---|---|\n",
       "| 330477                            | 8/30/2011                         | 12:26:00                          |  357                              |  198                              |    7                              | united kingdom                    | french blue metal door sign 3     | 2.46                              | 1                                 | \n",
       "| 113814                            | 11/1/2011                         | 14:54:00                          | 6757                              | 2747                              |  410                              | united kingdom                    | paper lantern 9 point deluxe star | 6.65                              | 4                                 | \n",
       "|  51510                            | 7/11/2011                         | 16:21:00                          |   52                              |  755                              |    7                              | united kingdom                    | fruit salad bag charm             | 2.46                              | 1                                 | \n",
       "| 257784                            | 10/11/2011                        | 14:52:00                          | 3642                              | 1942                              | 1722                              | france                            | set of 10 led dolly lights        | 6.25                              | 2                                 | \n",
       "| 431803                            | 11/14/2011                        | 14:59:00                          | 2105                              |   39                              | 1159                              | united kingdom                    | glitter christmas star            | 0.39                              | 5                                 | \n",
       "| 473125                            | 12/3/2010                         | 11:35:00                          | 1768                              |  506                              | 1009                              | united kingdom                    | set 20 napkins fairy cakes design | 0.85                              | 1                                 | \n",
       "\n",
       "\n"
      ],
      "text/plain": [
       "  id     date       time     invoice_id stock_id customer_id country       \n",
       "1 330477 8/30/2011  12:26:00  357        198        7        united kingdom\n",
       "2 113814 11/1/2011  14:54:00 6757       2747      410        united kingdom\n",
       "3  51510 7/11/2011  16:21:00   52        755        7        united kingdom\n",
       "4 257784 10/11/2011 14:52:00 3642       1942     1722        france        \n",
       "5 431803 11/14/2011 14:59:00 2105         39     1159        united kingdom\n",
       "6 473125 12/3/2010  11:35:00 1768        506     1009        united kingdom\n",
       "  description                       unit_price quantity\n",
       "1 french blue metal door sign 3     2.46       1       \n",
       "2 paper lantern 9 point deluxe star 6.65       4       \n",
       "3 fruit salad bag charm             2.46       1       \n",
       "4 set of 10 led dolly lights        6.25       2       \n",
       "5 glitter christmas star            0.39       5       \n",
       "6 set 20 napkins fairy cakes design 0.85       1       "
      ]
     },
     "metadata": {},
     "output_type": "display_data"
    }
   ],
   "source": [
    "head(train)"
   ]
  },
  {
   "cell_type": "code",
   "execution_count": 4,
   "metadata": {},
   "outputs": [
    {
     "data": {
      "text/html": [
       "<table>\n",
       "<thead><tr><th scope=col>id</th><th scope=col>date</th><th scope=col>time</th><th scope=col>invoice_id</th><th scope=col>stock_id</th><th scope=col>customer_id</th><th scope=col>country</th><th scope=col>description</th><th scope=col>unit_price</th></tr></thead>\n",
       "<tbody>\n",
       "\t<tr><td> 36260                           </td><td>4/3/2011                         </td><td>15:22:00                         </td><td> 2                               </td><td> 2                               </td><td> 2                               </td><td>united kingdom                   </td><td>lunch bag pink polkadot          </td><td>1.65                             </td></tr>\n",
       "\t<tr><td>156272                           </td><td>9/14/2011                        </td><td>15:41:00                         </td><td>10                               </td><td> 9                               </td><td> 9                               </td><td>united kingdom                   </td><td>mint diner wall clock            </td><td>7.65                             </td></tr>\n",
       "\t<tr><td>155140                           </td><td>12/16/2010                       </td><td>14:27:00                         </td><td>11                               </td><td>10                               </td><td>10                               </td><td>united kingdom                   </td><td>red drawer knob acrylic edwardian</td><td>1.25                             </td></tr>\n",
       "\t<tr><td>504947                           </td><td>3/7/2011                         </td><td>12:31:00                         </td><td>12                               </td><td>11                               </td><td>11                               </td><td>united kingdom                   </td><td>kitchen metal sign               </td><td>0.55                             </td></tr>\n",
       "\t<tr><td> 65461                           </td><td>10/25/2011                       </td><td>13:17:00                         </td><td>16                               </td><td>15                               </td><td>14                               </td><td>united kingdom                   </td><td>vintage cream cat food container </td><td>6.35                             </td></tr>\n",
       "\t<tr><td>307052                           </td><td>7/19/2011                        </td><td>12:43:00                         </td><td>17                               </td><td>16                               </td><td>15                               </td><td>finland                          </td><td>toilet metal sign                </td><td>0.55                             </td></tr>\n",
       "</tbody>\n",
       "</table>\n"
      ],
      "text/latex": [
       "\\begin{tabular}{r|lllllllll}\n",
       " id & date & time & invoice\\_id & stock\\_id & customer\\_id & country & description & unit\\_price\\\\\n",
       "\\hline\n",
       "\t  36260                            & 4/3/2011                          & 15:22:00                          &  2                                &  2                                &  2                                & united kingdom                    & lunch bag pink polkadot           & 1.65                             \\\\\n",
       "\t 156272                            & 9/14/2011                         & 15:41:00                          & 10                                &  9                                &  9                                & united kingdom                    & mint diner wall clock             & 7.65                             \\\\\n",
       "\t 155140                            & 12/16/2010                        & 14:27:00                          & 11                                & 10                                & 10                                & united kingdom                    & red drawer knob acrylic edwardian & 1.25                             \\\\\n",
       "\t 504947                            & 3/7/2011                          & 12:31:00                          & 12                                & 11                                & 11                                & united kingdom                    & kitchen metal sign                & 0.55                             \\\\\n",
       "\t  65461                            & 10/25/2011                        & 13:17:00                          & 16                                & 15                                & 14                                & united kingdom                    & vintage cream cat food container  & 6.35                             \\\\\n",
       "\t 307052                            & 7/19/2011                         & 12:43:00                          & 17                                & 16                                & 15                                & finland                           & toilet metal sign                 & 0.55                             \\\\\n",
       "\\end{tabular}\n"
      ],
      "text/markdown": [
       "\n",
       "id | date | time | invoice_id | stock_id | customer_id | country | description | unit_price | \n",
       "|---|---|---|---|---|---|\n",
       "|  36260                            | 4/3/2011                          | 15:22:00                          |  2                                |  2                                |  2                                | united kingdom                    | lunch bag pink polkadot           | 1.65                              | \n",
       "| 156272                            | 9/14/2011                         | 15:41:00                          | 10                                |  9                                |  9                                | united kingdom                    | mint diner wall clock             | 7.65                              | \n",
       "| 155140                            | 12/16/2010                        | 14:27:00                          | 11                                | 10                                | 10                                | united kingdom                    | red drawer knob acrylic edwardian | 1.25                              | \n",
       "| 504947                            | 3/7/2011                          | 12:31:00                          | 12                                | 11                                | 11                                | united kingdom                    | kitchen metal sign                | 0.55                              | \n",
       "|  65461                            | 10/25/2011                        | 13:17:00                          | 16                                | 15                                | 14                                | united kingdom                    | vintage cream cat food container  | 6.35                              | \n",
       "| 307052                            | 7/19/2011                         | 12:43:00                          | 17                                | 16                                | 15                                | finland                           | toilet metal sign                 | 0.55                              | \n",
       "\n",
       "\n"
      ],
      "text/plain": [
       "  id     date       time     invoice_id stock_id customer_id country       \n",
       "1  36260 4/3/2011   15:22:00  2          2        2          united kingdom\n",
       "2 156272 9/14/2011  15:41:00 10          9        9          united kingdom\n",
       "3 155140 12/16/2010 14:27:00 11         10       10          united kingdom\n",
       "4 504947 3/7/2011   12:31:00 12         11       11          united kingdom\n",
       "5  65461 10/25/2011 13:17:00 16         15       14          united kingdom\n",
       "6 307052 7/19/2011  12:43:00 17         16       15          finland       \n",
       "  description                       unit_price\n",
       "1 lunch bag pink polkadot           1.65      \n",
       "2 mint diner wall clock             7.65      \n",
       "3 red drawer knob acrylic edwardian 1.25      \n",
       "4 kitchen metal sign                0.55      \n",
       "5 vintage cream cat food container  6.35      \n",
       "6 toilet metal sign                 0.55      "
      ]
     },
     "metadata": {},
     "output_type": "display_data"
    }
   ],
   "source": [
    "head(test)"
   ]
  },
  {
   "cell_type": "code",
   "execution_count": null,
   "metadata": {
    "collapsed": true
   },
   "outputs": [],
   "source": []
  }
 ],
 "metadata": {
  "kernelspec": {
   "display_name": "R",
   "language": "R",
   "name": "ir"
  },
  "language_info": {
   "codemirror_mode": "r",
   "file_extension": ".r",
   "mimetype": "text/x-r-source",
   "name": "R",
   "pygments_lexer": "r",
   "version": "3.4.2"
  }
 },
 "nbformat": 4,
 "nbformat_minor": 2
}
